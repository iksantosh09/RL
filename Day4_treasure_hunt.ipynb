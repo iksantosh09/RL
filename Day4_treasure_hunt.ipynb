{
 "cells": [
  {
   "cell_type": "code",
   "execution_count": 11,
   "id": "d4249a0e",
   "metadata": {},
   "outputs": [],
   "source": [
    "## Ignore all Warnings\n",
    "import warnings\n",
    "warnings.filterwarnings(\"ignore\")"
   ]
  },
  {
   "cell_type": "code",
   "execution_count": 12,
   "id": "79cc26a7",
   "metadata": {},
   "outputs": [],
   "source": [
    "### Import other supporting libraries for practice\n",
    "import time\n",
    "import matplotlib.pyplot as plt\n",
    "from IPython import display as ipythondisplay\n",
    "import numpy as np\n",
    "import pandas as pd\n",
    "import random"
   ]
  },
  {
   "cell_type": "code",
   "execution_count": 13,
   "id": "7f1cbbe4",
   "metadata": {},
   "outputs": [],
   "source": [
    "##\n",
    "N_States = 6  ## possible states in 1D\n",
    "Actions = ['left', 'right'] ## available actions\n",
    "\n",
    "\n",
    "lr = 0.01  # Learning Rate\n",
    "gamma = 0.99   # discout factor\n",
    "\n",
    "max_episode = 5\n",
    "\n"
   ]
  },
  {
   "cell_type": "code",
   "execution_count": 15,
   "id": "64bf5a55",
   "metadata": {},
   "outputs": [],
   "source": [
    "def initialise_q(n_states,actions):\n",
    "    q_table  = pd.DataFrame(np.zeros((n_states,len(actions))),columns  = actions)\n",
    "    return q_table\n",
    "    "
   ]
  },
  {
   "cell_type": "code",
   "execution_count": 16,
   "id": "a7d35f48",
   "metadata": {},
   "outputs": [
    {
     "data": {
      "text/plain": [
       "0.8565175889895095"
      ]
     },
     "execution_count": 16,
     "metadata": {},
     "output_type": "execute_result"
    }
   ],
   "source": [
    "np.random.uniform()"
   ]
  },
  {
   "cell_type": "code",
   "execution_count": 17,
   "id": "44866c2f",
   "metadata": {},
   "outputs": [],
   "source": [
    "def epsilon_greedy_action(state,q_table,epsilon = 0.9):\n",
    "    state_actions = q_table.iloc[state,:] # state 1, [0.87656, 0.98765]\n",
    "    if np.random.uniform() >= epsilon:# or ((state_actions==0).all()):\n",
    "        ## Exploitation\n",
    "        action_name = state_actions.idxmax() ### Argmax\n",
    "    else:\n",
    "        ## Exploration\n",
    "        action_name = np.random.choice(Actions)\n",
    "    return action_name\n"
   ]
  },
  {
   "cell_type": "code",
   "execution_count": 7,
   "id": "c814c6be",
   "metadata": {},
   "outputs": [],
   "source": [
    "def take_step(state,action):\n",
    "    if action == 'right':\n",
    "        if state == N_States - 2:\n",
    "            next_state = 'terminal'\n",
    "            reward = 1\n",
    "        else:\n",
    "            next_state = state + 1\n",
    "            reward = 0\n",
    "            \n",
    "    else: ## if action is left        \n",
    "        reward = 0\n",
    "        if state == 0:\n",
    "            next_state = 0 ##reached to wall\n",
    "        else:\n",
    "            next_state = state - 1\n",
    "    \n",
    "    if next_state == 'terminal':\n",
    "        done = True\n",
    "    else:\n",
    "        done = False\n",
    "    return next_state,reward, done\n",
    "        \n",
    "                \n",
    "    "
   ]
  },
  {
   "cell_type": "code",
   "execution_count": 18,
   "id": "e6143865",
   "metadata": {},
   "outputs": [],
   "source": [
    "def env_render(S,episode,step_counter):\n",
    "    env_list = ['-']*(N_States - 1) + ['T'] # ------T is our environment\n",
    "    if S == 'terminal':\n",
    "        interaction = 'Episode %s: Total steps = %s' %(episode+1, step_counter)\n",
    "        \n",
    "        print('\\r{}'.format(interaction),end ='')\n",
    "        time.sleep(1)\n",
    "        \n",
    "        print('\\r                               ',end ='')\n",
    "\n",
    "    else:\n",
    "        env_list[S] = 'o'\n",
    "        interaction = ''.join(env_list)\n",
    "        print('\\r{}'.format(interaction),end = '')\n",
    "        time.sleep(1)\n",
    "        "
   ]
  },
  {
   "cell_type": "code",
   "execution_count": 19,
   "id": "102322da",
   "metadata": {},
   "outputs": [],
   "source": [
    "def train_rl_agent(gamma = 0.8,lr = 0.1):\n",
    "    q_table = initialise_q(N_States,Actions)\n",
    "    \n",
    "    ##Episodes\n",
    "    \n",
    "    for episode in range(max_episode):\n",
    "        step_counter = 0\n",
    "        current_state = 0\n",
    "        #render the environment \n",
    "        is_terminated = False\n",
    "        env_render(current_state,episode,step_counter)\n",
    "        \n",
    "        ##Run main loop\n",
    "        \n",
    "        while not is_terminated:\n",
    "            action = epsilon_greedy_action(current_state,q_table)\n",
    "            next_state,reward,termination = take_step(current_state,action)\n",
    "            ##fetch curernt state-action q value\n",
    "            q_current_sa = q_table.loc[current_state,action]\n",
    "            \n",
    "            if next_state != 'terminal':\n",
    "                q_target = reward + gamma * q_table.iloc[next_state,:].max()\n",
    "            else:\n",
    "                q_target = reward\n",
    "                is_terminated = True\n",
    "                \n",
    "            ## Update the q_table\n",
    "            q_table.loc[current_state,action] += lr * (q_target - q_current_sa)\n",
    "            \n",
    "            ####\n",
    "            # q(s,a) = 0.23\n",
    "            # q_target = 10324 ==> 0.001 * (10324 - 0.23) approx =  10.324\n",
    "            # q(s,a) = 0.23 + 10.324 = 10.554\n",
    "            ####\n",
    "            \n",
    "            ## Move to next state\n",
    "            current_state = next_state\n",
    "            \n",
    "            env_render(current_state,episode,step_counter+1)\n",
    "            \n",
    "            ##\n",
    "            step_counter = step_counter+1\n",
    "            \n",
    "    return q_table\n",
    "    "
   ]
  },
  {
   "cell_type": "code",
   "execution_count": 20,
   "id": "59b766fc",
   "metadata": {},
   "outputs": [
    {
     "name": "stdout",
     "output_type": "stream",
     "text": [
      "                                      left     right\n",
      "0  0.000118  0.000470\n",
      "1  0.000039  0.002668\n",
      "2  0.000340  0.022865\n",
      "3  0.002740  0.124165\n",
      "4  0.014526  0.409510\n",
      "5  0.000000  0.000000\n"
     ]
    }
   ],
   "source": [
    "q_table = train_rl_agent(gamma,lr)\n",
    "print(q_table)"
   ]
  },
  {
   "cell_type": "code",
   "execution_count": 21,
   "id": "a18104ee",
   "metadata": {},
   "outputs": [
    {
     "data": {
      "text/html": [
       "<div>\n",
       "<style scoped>\n",
       "    .dataframe tbody tr th:only-of-type {\n",
       "        vertical-align: middle;\n",
       "    }\n",
       "\n",
       "    .dataframe tbody tr th {\n",
       "        vertical-align: top;\n",
       "    }\n",
       "\n",
       "    .dataframe thead th {\n",
       "        text-align: right;\n",
       "    }\n",
       "</style>\n",
       "<table border=\"1\" class=\"dataframe\">\n",
       "  <thead>\n",
       "    <tr style=\"text-align: right;\">\n",
       "      <th></th>\n",
       "      <th>left</th>\n",
       "      <th>right</th>\n",
       "    </tr>\n",
       "  </thead>\n",
       "  <tbody>\n",
       "    <tr>\n",
       "      <th>0</th>\n",
       "      <td>0.000118</td>\n",
       "      <td>0.000470</td>\n",
       "    </tr>\n",
       "    <tr>\n",
       "      <th>1</th>\n",
       "      <td>0.000039</td>\n",
       "      <td>0.002668</td>\n",
       "    </tr>\n",
       "    <tr>\n",
       "      <th>2</th>\n",
       "      <td>0.000340</td>\n",
       "      <td>0.022865</td>\n",
       "    </tr>\n",
       "    <tr>\n",
       "      <th>3</th>\n",
       "      <td>0.002740</td>\n",
       "      <td>0.124165</td>\n",
       "    </tr>\n",
       "    <tr>\n",
       "      <th>4</th>\n",
       "      <td>0.014526</td>\n",
       "      <td>0.409510</td>\n",
       "    </tr>\n",
       "    <tr>\n",
       "      <th>5</th>\n",
       "      <td>0.000000</td>\n",
       "      <td>0.000000</td>\n",
       "    </tr>\n",
       "  </tbody>\n",
       "</table>\n",
       "</div>"
      ],
      "text/plain": [
       "       left     right\n",
       "0  0.000118  0.000470\n",
       "1  0.000039  0.002668\n",
       "2  0.000340  0.022865\n",
       "3  0.002740  0.124165\n",
       "4  0.014526  0.409510\n",
       "5  0.000000  0.000000"
      ]
     },
     "execution_count": 21,
     "metadata": {},
     "output_type": "execute_result"
    }
   ],
   "source": [
    "q_table"
   ]
  },
  {
   "cell_type": "code",
   "execution_count": 22,
   "id": "8a0d99d4",
   "metadata": {},
   "outputs": [],
   "source": [
    "\n",
    "### Watch the Agent \n",
    "def watch_agent(optimal_q):\n",
    "    step_counter = 0\n",
    "    current_state = 0\n",
    "    is_terminated = False\n",
    "    env_render(current_state,0,step_counter)\n",
    "    while not is_terminated:\n",
    "        action = epsilon_greedy_action(current_state,optimal_q,epsilon=0.1)\n",
    "        #print(\"state ={}, action = {} \".format(current_state,action))\n",
    "        next_state,reward,done = take_step(current_state,action)\n",
    "        current_state = next_state\n",
    "        \n",
    "        \n",
    "        env_render(current_state,0,step_counter+1)\n",
    "        step_counter = step_counter+1\n",
    "        \n",
    "        if current_state == 'terminal':\n",
    "            print(\"Finished\")\n",
    "            break"
   ]
  },
  {
   "cell_type": "code",
   "execution_count": 23,
   "id": "b1f20227",
   "metadata": {},
   "outputs": [
    {
     "name": "stdout",
     "output_type": "stream",
     "text": [
      "                               Finished\n"
     ]
    }
   ],
   "source": [
    "watch_agent(q_table)"
   ]
  },
  {
   "cell_type": "code",
   "execution_count": 35,
   "id": "1ee9d9bc",
   "metadata": {},
   "outputs": [
    {
     "data": {
      "text/plain": [
       "1"
      ]
     },
     "execution_count": 35,
     "metadata": {},
     "output_type": "execute_result"
    }
   ],
   "source": [
    "# q_table.loc[0,:].argmax()"
   ]
  },
  {
   "cell_type": "code",
   "execution_count": null,
   "id": "99e75429",
   "metadata": {},
   "outputs": [],
   "source": []
  }
 ],
 "metadata": {
  "kernelspec": {
   "display_name": "Python 3 (ipykernel)",
   "language": "python",
   "name": "python3"
  },
  "language_info": {
   "codemirror_mode": {
    "name": "ipython",
    "version": 3
   },
   "file_extension": ".py",
   "mimetype": "text/x-python",
   "name": "python",
   "nbconvert_exporter": "python",
   "pygments_lexer": "ipython3",
   "version": "3.9.7"
  }
 },
 "nbformat": 4,
 "nbformat_minor": 5
}
